{
  "nbformat": 4,
  "nbformat_minor": 0,
  "metadata": {
    "colab": {
      "name": "Grafos.ipynb",
      "provenance": [],
      "collapsed_sections": [],
      "authorship_tag": "ABX9TyOuNUmW01bNuymBI2ti8ytt",
      "include_colab_link": true
    },
    "kernelspec": {
      "name": "python3",
      "display_name": "Python 3"
    }
  },
  "cells": [
    {
      "cell_type": "markdown",
      "metadata": {
        "id": "view-in-github",
        "colab_type": "text"
      },
      "source": [
        "<a href=\"https://colab.research.google.com/github/allankeiiti/googleCollab-notebooks/blob/main/Grafos.ipynb\" target=\"_parent\"><img src=\"https://colab.research.google.com/assets/colab-badge.svg\" alt=\"Open In Colab\"/></a>"
      ]
    },
    {
      "cell_type": "code",
      "metadata": {
        "colab": {
          "base_uri": "https://localhost:8080/"
        },
        "id": "FjPfRFyfQ7P8",
        "outputId": "fc5089df-4dbb-409e-d0fb-16b0bd453b42"
      },
      "source": [
        "import tensorflow.compat.v1 as tf\r\n",
        "tf.disable_v2_behavior()\r\n",
        "print(tf.__version__)"
      ],
      "execution_count": 1,
      "outputs": [
        {
          "output_type": "stream",
          "text": [
            "WARNING:tensorflow:From /usr/local/lib/python3.6/dist-packages/tensorflow/python/compat/v2_compat.py:96: disable_resource_variables (from tensorflow.python.ops.variable_scope) is deprecated and will be removed in a future version.\n",
            "Instructions for updating:\n",
            "non-resource variables are not supported in the long term\n",
            "2.4.0\n"
          ],
          "name": "stdout"
        }
      ]
    },
    {
      "cell_type": "markdown",
      "metadata": {
        "id": "oPsycEZxTFXr"
      },
      "source": [
        "Ao definir uma operação um Grafo é gerado pelo TensorFlow, para a visualização é necessário o TensorBoard.\r\n",
        "\r\n",
        "O grafo quando gerado no GoogleColab ele se localiza nos arquivos numa pasta chamda 'output'"
      ]
    },
    {
      "cell_type": "code",
      "metadata": {
        "id": "JvVMi3B9TMgI"
      },
      "source": [
        "a = tf.add(2, 2, name='add')\r\n",
        "b = tf.multiply(a, 3, name='multib')\r\n",
        "c = tf.multiply(b, a, name='multic')"
      ],
      "execution_count": 2,
      "outputs": []
    },
    {
      "cell_type": "code",
      "metadata": {
        "colab": {
          "base_uri": "https://localhost:8080/"
        },
        "id": "AIR5oreDTWat",
        "outputId": "96919352-5065-43d6-b084-ea054bd322f8"
      },
      "source": [
        "with tf.Session() as sess:\r\n",
        "\r\n",
        "  # Gerando um Grafo \r\n",
        "  writer = tf.summary.FileWriter('output', sess.graph)\r\n",
        "  print(sess.run(c))\r\n",
        "  writer.close()"
      ],
      "execution_count": 4,
      "outputs": [
        {
          "output_type": "stream",
          "text": [
            "48\n"
          ],
          "name": "stdout"
        }
      ]
    }
  ]
}