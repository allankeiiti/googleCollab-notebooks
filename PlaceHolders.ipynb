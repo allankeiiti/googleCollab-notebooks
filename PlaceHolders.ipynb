{
  "nbformat": 4,
  "nbformat_minor": 0,
  "metadata": {
    "colab": {
      "name": "PlaceHolders.ipynb",
      "provenance": [],
      "collapsed_sections": [],
      "authorship_tag": "ABX9TyNCJFbDe0F7VC+XQYiTCSQx",
      "include_colab_link": true
    },
    "kernelspec": {
      "name": "python3",
      "display_name": "Python 3"
    }
  },
  "cells": [
    {
      "cell_type": "markdown",
      "metadata": {
        "id": "view-in-github",
        "colab_type": "text"
      },
      "source": [
        "<a href=\"https://colab.research.google.com/github/allankeiiti/googleCollab-notebooks/blob/main/PlaceHolders.ipynb\" target=\"_parent\"><img src=\"https://colab.research.google.com/assets/colab-badge.svg\" alt=\"Open In Colab\"/></a>"
      ]
    },
    {
      "cell_type": "markdown",
      "metadata": {
        "id": "ijEsXNFMMWlA"
      },
      "source": [
        "## O que são PlaceHolders? (Espaço Reservado)\r\n",
        "No TensorFlow um PlaceHolder são variáveis que vão receber algum dado futuramente durante a execução de código. Permitindo criar operações e construir um grafo computacional sem necessidade de dados.\r\n",
        "\r\n",
        "Quando atribuimos um dado ao placeholder, estamos ***\"Alimentando-o\"***"
      ]
    },
    {
      "cell_type": "code",
      "metadata": {
        "colab": {
          "base_uri": "https://localhost:8080/"
        },
        "id": "97G_TUNEMUQj",
        "outputId": "1195ac1a-e99d-48c2-c713-f13fd34fc5cb"
      },
      "source": [
        "import tensorflow.compat.v1 as tf\r\n",
        "tf.disable_v2_behavior()\r\n",
        "print(tf.__version__)"
      ],
      "execution_count": 1,
      "outputs": [
        {
          "output_type": "stream",
          "text": [
            "WARNING:tensorflow:From /usr/local/lib/python3.6/dist-packages/tensorflow/python/compat/v2_compat.py:96: disable_resource_variables (from tensorflow.python.ops.variable_scope) is deprecated and will be removed in a future version.\n",
            "Instructions for updating:\n",
            "non-resource variables are not supported in the long term\n",
            "2.4.0\n"
          ],
          "name": "stdout"
        }
      ]
    },
    {
      "cell_type": "code",
      "metadata": {
        "id": "-7LhJ_RNNOTB"
      },
      "source": [
        "p = tf.placeholder('float', None)\r\n",
        "\r\n",
        "operacao = p + 2\r\n",
        "\r\n",
        "# Alimentamos o placeholder pelo parâmetro \"feed_dict\"\r\n",
        "with tf.Session() as sess:\r\n",
        "  resultado = sess.run(operacao, feed_dict={p: [1, 2, 3]})"
      ],
      "execution_count": 2,
      "outputs": []
    },
    {
      "cell_type": "code",
      "metadata": {
        "colab": {
          "base_uri": "https://localhost:8080/"
        },
        "id": "_cR0c-XtNpeI",
        "outputId": "8ed5a433-66c4-438e-ae4b-4dbf955f27c6"
      },
      "source": [
        "print(resultado)"
      ],
      "execution_count": 3,
      "outputs": [
        {
          "output_type": "stream",
          "text": [
            "[3. 4. 5.]\n"
          ],
          "name": "stdout"
        }
      ]
    },
    {
      "cell_type": "code",
      "metadata": {
        "id": "6wJAXRY5Nq9y"
      },
      "source": [
        "p2 = tf.placeholder('float', [None, 5])\r\n",
        "operacao2 = p2 * 5\r\n",
        "dados = [[1, 2, 3, 4, 5], [6, 7, 8, 9, 10]]"
      ],
      "execution_count": 4,
      "outputs": []
    },
    {
      "cell_type": "code",
      "metadata": {
        "colab": {
          "base_uri": "https://localhost:8080/"
        },
        "id": "kIxu-xHKQUDO",
        "outputId": "3b07dbd2-1810-4902-c7e3-2eb48d79521b"
      },
      "source": [
        "with tf.Session() as sess:\r\n",
        "  resultado = sess.run(operacao2, feed_dict={p2: dados})\r\n",
        "  print(resultado)"
      ],
      "execution_count": 5,
      "outputs": [
        {
          "output_type": "stream",
          "text": [
            "[[ 5. 10. 15. 20. 25.]\n",
            " [30. 35. 40. 45. 50.]]\n"
          ],
          "name": "stdout"
        }
      ]
    }
  ]
}