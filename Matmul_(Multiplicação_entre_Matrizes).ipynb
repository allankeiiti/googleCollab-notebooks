{
  "nbformat": 4,
  "nbformat_minor": 0,
  "metadata": {
    "colab": {
      "name": "Matmul (Multiplicação entre Matrizes).ipynb",
      "provenance": [],
      "authorship_tag": "ABX9TyOPEpjcZAVA7ms0QdJs6C6b",
      "include_colab_link": true
    },
    "kernelspec": {
      "name": "python3",
      "display_name": "Python 3"
    }
  },
  "cells": [
    {
      "cell_type": "markdown",
      "metadata": {
        "id": "view-in-github",
        "colab_type": "text"
      },
      "source": [
        "<a href=\"https://colab.research.google.com/github/allankeiiti/googleCollab-notebooks/blob/main/Matmul_(Multiplica%C3%A7%C3%A3o_entre_Matrizes).ipynb\" target=\"_parent\"><img src=\"https://colab.research.google.com/assets/colab-badge.svg\" alt=\"Open In Colab\"/></a>"
      ]
    },
    {
      "cell_type": "code",
      "metadata": {
        "colab": {
          "base_uri": "https://localhost:8080/"
        },
        "id": "tO0ygTSaHQja",
        "outputId": "9223f61f-fde1-4de4-e671-36dd36f7cd73"
      },
      "source": [
        "import tensorflow.compat.v1 as tf\r\n",
        "tf.disable_v2_behavior()\r\n",
        "print(tf.__version__)"
      ],
      "execution_count": 1,
      "outputs": [
        {
          "output_type": "stream",
          "text": [
            "WARNING:tensorflow:From /usr/local/lib/python3.6/dist-packages/tensorflow/python/compat/v2_compat.py:96: disable_resource_variables (from tensorflow.python.ops.variable_scope) is deprecated and will be removed in a future version.\n",
            "Instructions for updating:\n",
            "non-resource variables are not supported in the long term\n",
            "2.4.0\n"
          ],
          "name": "stdout"
        }
      ]
    },
    {
      "cell_type": "code",
      "metadata": {
        "id": "BerZLAabHXr2"
      },
      "source": [
        "a = tf.constant([[1, 2], [3, 4]])\r\n",
        "b = tf.constant([[-1, 3], [4, 2]])"
      ],
      "execution_count": 2,
      "outputs": []
    },
    {
      "cell_type": "code",
      "metadata": {
        "id": "n7aGGF2KHfUj"
      },
      "source": [
        "multiplicacao = tf.matmul(a, b)"
      ],
      "execution_count": 3,
      "outputs": []
    },
    {
      "cell_type": "code",
      "metadata": {
        "colab": {
          "base_uri": "https://localhost:8080/"
        },
        "id": "ujlhEA4lHiBk",
        "outputId": "0dc6c40a-6172-46ad-d1fe-41bd34b7a47a"
      },
      "source": [
        "with tf.Session() as sess:\r\n",
        "  print(f'{sess.run(a)}\\n')\r\n",
        "  print(f'{sess.run(b)}\\n')\r\n",
        "  print(sess.run(multiplicacao))"
      ],
      "execution_count": 5,
      "outputs": [
        {
          "output_type": "stream",
          "text": [
            "[[1 2]\n",
            " [3 4]]\n",
            "\n",
            "[[-1  3]\n",
            " [ 4  2]]\n",
            "\n",
            "[[ 7  7]\n",
            " [13 17]]\n"
          ],
          "name": "stdout"
        }
      ]
    },
    {
      "cell_type": "code",
      "metadata": {
        "id": "gtWqBxHdK0qJ"
      },
      "source": [
        "c = tf.constant([[1, 2], [3, 4], [5, 10]])\r\n",
        "d = tf.constant([[-1, 3, 10], [4, 2, 30]])\r\n",
        "\r\n",
        "multiplicacao_2 = tf.matmul(c, d)"
      ],
      "execution_count": 6,
      "outputs": []
    },
    {
      "cell_type": "code",
      "metadata": {
        "colab": {
          "base_uri": "https://localhost:8080/"
        },
        "id": "RN2rK6SzK3Qy",
        "outputId": "3aa64994-964a-4656-c9ee-dfb88ebde7f8"
      },
      "source": [
        "with tf.Session() as sess:\r\n",
        "  print(f'{sess.run(c)}\\n')\r\n",
        "  print(f'{sess.run(d)}\\n')\r\n",
        "  print(sess.run(multiplicacao_2))"
      ],
      "execution_count": 7,
      "outputs": [
        {
          "output_type": "stream",
          "text": [
            "[[ 1  2]\n",
            " [ 3  4]\n",
            " [ 5 10]]\n",
            "\n",
            "[[-1  3 10]\n",
            " [ 4  2 30]]\n",
            "\n",
            "[[  7   7  70]\n",
            " [ 13  17 150]\n",
            " [ 35  35 350]]\n"
          ],
          "name": "stdout"
        }
      ]
    }
  ]
}