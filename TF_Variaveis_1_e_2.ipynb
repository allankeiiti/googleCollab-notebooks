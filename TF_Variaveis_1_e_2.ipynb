{
  "nbformat": 4,
  "nbformat_minor": 0,
  "metadata": {
    "colab": {
      "name": "TF_Variaveis_1_e_2.ipynb",
      "provenance": [],
      "collapsed_sections": [],
      "authorship_tag": "ABX9TyPywXj5Ec7rCmHLga99dSBl",
      "include_colab_link": true
    },
    "kernelspec": {
      "name": "python3",
      "display_name": "Python 3"
    }
  },
  "cells": [
    {
      "cell_type": "markdown",
      "metadata": {
        "id": "view-in-github",
        "colab_type": "text"
      },
      "source": [
        "<a href=\"https://colab.research.google.com/github/allankeiiti/googleCollab-notebooks/blob/main/TF_Variaveis_1_e_2.ipynb\" target=\"_parent\"><img src=\"https://colab.research.google.com/assets/colab-badge.svg\" alt=\"Open In Colab\"/></a>"
      ]
    },
    {
      "cell_type": "code",
      "metadata": {
        "colab": {
          "base_uri": "https://localhost:8080/"
        },
        "id": "NEBU9te0CAoK",
        "outputId": "485f7af0-6d0e-4411-b282-4166dfcce288"
      },
      "source": [
        "import tensorflow.compat.v1 as tf\r\n",
        "tf.disable_v2_behavior()\r\n",
        "print(tf.__version__)"
      ],
      "execution_count": 1,
      "outputs": [
        {
          "output_type": "stream",
          "text": [
            "WARNING:tensorflow:From /usr/local/lib/python3.6/dist-packages/tensorflow/python/compat/v2_compat.py:96: disable_resource_variables (from tensorflow.python.ops.variable_scope) is deprecated and will be removed in a future version.\n",
            "Instructions for updating:\n",
            "non-resource variables are not supported in the long term\n",
            "2.4.0\n"
          ],
          "name": "stdout"
        }
      ]
    },
    {
      "cell_type": "code",
      "metadata": {
        "id": "2uC6o22qCIqD"
      },
      "source": [
        "# Podemos atribuir nome às constantes e variáveis do TensorFlow!!!\r\n",
        "valor1 = tf.constant(15, name='valor1')\r\n",
        "\r\n",
        "soma = tf.Variable(valor1 + 5, name='soma')"
      ],
      "execution_count": 2,
      "outputs": []
    },
    {
      "cell_type": "code",
      "metadata": {
        "id": "MzkqHj6HDI14"
      },
      "source": [
        "# Variáveis no Tensorflow 1x necessitam de um inicializador de variáveis global do TensorFlow,\r\n",
        "#  pois com o init é criado a dependendência entre as variáveis. No caso o tf.Variable \"soma\" depende da constante \"valor1\"\r\n",
        "\r\n",
        "init = tf.global_variables_initializer()"
      ],
      "execution_count": 3,
      "outputs": []
    },
    {
      "cell_type": "code",
      "metadata": {
        "colab": {
          "base_uri": "https://localhost:8080/"
        },
        "id": "DBhRIKAEDTT8",
        "outputId": "e683bb77-eeb2-4035-842f-d7e5d8bad1cb"
      },
      "source": [
        "with tf.Session() as sess:\r\n",
        "  # Executando o inicializador de variáveis\r\n",
        "  sess.run(init)\r\n",
        "  # E então realizando a fórmula da soma entre a constante e a variável\r\n",
        "  s = sess.run(soma)\r\n",
        "\r\n",
        "print(s)"
      ],
      "execution_count": 4,
      "outputs": [
        {
          "output_type": "stream",
          "text": [
            "20\n"
          ],
          "name": "stdout"
        }
      ]
    },
    {
      "cell_type": "markdown",
      "metadata": {
        "id": "YeUwxqEJD6Y_"
      },
      "source": [
        "## **Variáveis 2**"
      ]
    },
    {
      "cell_type": "code",
      "metadata": {
        "id": "WqbVUg89D55B"
      },
      "source": [
        "vetor = tf.constant([5, 10, 15], name='array')"
      ],
      "execution_count": 5,
      "outputs": []
    },
    {
      "cell_type": "code",
      "metadata": {
        "colab": {
          "base_uri": "https://localhost:8080/"
        },
        "id": "W-3n7q_VEI9w",
        "outputId": "275577e8-56f5-4b67-9ecc-aaabac07b991"
      },
      "source": [
        "soma_vetor = tf.Variable(vetor + 5, name='soma_vetor')\r\n",
        "init = tf.global_variables_initializer()\r\n",
        "\r\n",
        "with tf.Session() as sess:\r\n",
        "  # E então realizando a fórmula da soma entre a constante e a variável\r\n",
        "  sess.run(init)\r\n",
        "  s = sess.run(soma_vetor)\r\n",
        "\r\n",
        "print(s)"
      ],
      "execution_count": 7,
      "outputs": [
        {
          "output_type": "stream",
          "text": [
            "[10 15 20]\n"
          ],
          "name": "stdout"
        }
      ]
    },
    {
      "cell_type": "code",
      "metadata": {
        "id": "c_umZSI-FUJT"
      },
      "source": [
        "valor_for = tf.Variable(0, name='valor_for')\r\n",
        "init = tf.global_variables_initializer()"
      ],
      "execution_count": 8,
      "outputs": []
    },
    {
      "cell_type": "code",
      "metadata": {
        "colab": {
          "base_uri": "https://localhost:8080/"
        },
        "id": "cvfT8bb8FYvg",
        "outputId": "bacaf76f-9723-4800-fe26-d8ebdd36a32a"
      },
      "source": [
        "with tf.Session() as sess:\r\n",
        "  sess.run(init)\r\n",
        "  for i in range(5):\r\n",
        "    valor_for = valor_for + 1\r\n",
        "    print(sess.run(valor_for))"
      ],
      "execution_count": 9,
      "outputs": [
        {
          "output_type": "stream",
          "text": [
            "1\n",
            "2\n",
            "3\n",
            "4\n",
            "5\n"
          ],
          "name": "stdout"
        }
      ]
    }
  ]
}